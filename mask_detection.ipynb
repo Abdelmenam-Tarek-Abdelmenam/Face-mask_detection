{
  "nbformat": 4,
  "nbformat_minor": 0,
  "metadata": {
    "colab": {
      "name": "mask_detection.ipynb",
      "provenance": [],
      "collapsed_sections": [],
      "mount_file_id": "1LLq-rNhEoM3uWPj-6k8uGBWVUyeTpNkr",
      "authorship_tag": "ABX9TyPwws6AxIQr9NUhFsQkTZZV",
      "include_colab_link": true
    },
    "kernelspec": {
      "name": "python3",
      "display_name": "Python 3"
    },
    "language_info": {
      "name": "python"
    }
  },
  "cells": [
    {
      "cell_type": "markdown",
      "metadata": {
        "id": "view-in-github",
        "colab_type": "text"
      },
      "source": [
        "<a href=\"https://colab.research.google.com/github/Abdelmenam-Tarek-Abdelmenam/Face-mask_detection/blob/main/mask_detection.ipynb\" target=\"_parent\"><img src=\"https://colab.research.google.com/assets/colab-badge.svg\" alt=\"Open In Colab\"/></a>"
      ]
    },
    {
      "cell_type": "markdown",
      "source": [
        "#Import packeges"
      ],
      "metadata": {
        "id": "Y9W48U9BSUYC"
      }
    },
    {
      "cell_type": "code",
      "execution_count": 17,
      "metadata": {
        "id": "bYuOej5tz82a"
      },
      "outputs": [],
      "source": [
        "from tensorflow.keras.preprocessing.image import ImageDataGenerator\n",
        "from tensorflow.keras.applications import MobileNetV2\n",
        "import  tensorflow.keras.layers as layer \n",
        "from tensorflow.keras.models import Model\n",
        "from tensorflow.keras.optimizers import Adam\n",
        "from tensorflow.keras.applications.mobilenet_v2 import preprocess_input\n",
        "import tensorflow.keras.preprocessing.image as imagePros\n",
        "from tensorflow.keras.utils import to_categorical\n",
        "from sklearn.preprocessing import LabelBinarizer\n",
        "from sklearn.metrics import classification_report\n",
        "from sklearn.model_selection import train_test_split\n",
        "import matplotlib.pyplot as plt\n",
        "import seaborn as sns\n",
        "import numpy as np\n",
        "import os\n",
        "%matplotlib inline  \n",
        "sns.set()"
      ]
    },
    {
      "cell_type": "markdown",
      "source": [
        "# Initial values"
      ],
      "metadata": {
        "id": "ecsMvHkfSdI6"
      }
    },
    {
      "cell_type": "code",
      "source": [
        "initialLearningRate = 1e-4\n",
        "numberOfEpochs = 20\n",
        "batchSize = 32\n",
        "\n",
        "dataDirectory = r\"drive/MyDrive/Colab Notebooks/dataset\"\n",
        "categories = [\"with_mask\", \"without_mask\"]\n",
        "\n",
        "# the list of data \n",
        "data = []\n",
        "labels = []"
      ],
      "metadata": {
        "id": "W4j3bRkRz_Ru"
      },
      "execution_count": 18,
      "outputs": []
    },
    {
      "cell_type": "markdown",
      "source": [
        "# Read images"
      ],
      "metadata": {
        "id": "rC1zPdKxhFaU"
      }
    },
    {
      "cell_type": "code",
      "source": [
        "for category in categories:\n",
        "    path = os.path.join(dataDirectory, category)\n",
        "    for img in os.listdir(path):\n",
        "    \timg_path = os.path.join(path, img)\n",
        "    \timage = imagePros.load_img(img_path, target_size=(224, 224))\n",
        "    \timage = imagePros.img_to_array(image)\n",
        "    \timage = preprocess_input(image)\n",
        "\n",
        "    \tdata.append(image)\n",
        "    \tlabels.append(category)\n",
        "     \n",
        "\n",
        "labelCount = {i:labels.count(i) for i in labels}\n",
        "print(\"number of images\", len(data))\n",
        "print(labelCount)"
      ],
      "metadata": {
        "colab": {
          "base_uri": "https://localhost:8080/"
        },
        "id": "d9maeSqn0Lzj",
        "outputId": "cabecb4b-6600-4b58-a512-4bc21a65d78f"
      },
      "execution_count": 19,
      "outputs": [
        {
          "output_type": "stream",
          "name": "stdout",
          "text": [
            "number of images 3842\n",
            "{'with_mask': 1924, 'without_mask': 1918}\n"
          ]
        }
      ]
    },
    {
      "cell_type": "markdown",
      "source": [
        "#  Encode the labels"
      ],
      "metadata": {
        "id": "WJTyEb0PiDUo"
      }
    },
    {
      "cell_type": "code",
      "source": [
        "lb = LabelBinarizer()\n",
        "labels = lb.fit_transform(labels)\n",
        "labels = to_categorical(labels) #vector to matrix 0-1"
      ],
      "metadata": {
        "id": "Twwx1zL20dne"
      },
      "execution_count": 20,
      "outputs": []
    },
    {
      "cell_type": "markdown",
      "source": [
        "#Split data"
      ],
      "metadata": {
        "id": "F3acNTm-iV0G"
      }
    },
    {
      "cell_type": "code",
      "source": [
        "data = np.array(data, dtype=\"float32\")\n",
        "labels = np.array(labels)\n",
        "\n",
        "(trainX, testX, trainY, testY) = train_test_split(data, labels,\n",
        "\ttest_size=0.20, stratify=labels, random_state=42)\n",
        "\n",
        "print(\"tarin data lenght\" , len(trainX))\n",
        "print(\"test data lenght\" , len(testX))"
      ],
      "metadata": {
        "colab": {
          "base_uri": "https://localhost:8080/"
        },
        "id": "Duw59CvqiZAG",
        "outputId": "98d8658b-2bc6-41ab-8386-03433e9abea6"
      },
      "execution_count": 21,
      "outputs": [
        {
          "output_type": "stream",
          "name": "stdout",
          "text": [
            "tarin data lenght 3073\n",
            "test data lenght 769\n"
          ]
        }
      ]
    },
    {
      "cell_type": "markdown",
      "source": [
        "#Data augmentation"
      ],
      "metadata": {
        "id": "yOFjP-TJlH_1"
      }
    },
    {
      "cell_type": "code",
      "source": [
        "aug = ImageDataGenerator(\n",
        "\trotation_range=20,\n",
        "\tzoom_range=0.15,\n",
        "\twidth_shift_range=0.2,\n",
        "\theight_shift_range=0.2,\n",
        "\tshear_range=0.15,\n",
        "\thorizontal_flip=True,\n",
        "\tfill_mode=\"nearest\")"
      ],
      "metadata": {
        "id": "hlv2UEaLlRw2"
      },
      "execution_count": 22,
      "outputs": []
    },
    {
      "cell_type": "markdown",
      "source": [
        "#Prepare model"
      ],
      "metadata": {
        "id": "VrDVFvgulmjF"
      }
    },
    {
      "cell_type": "code",
      "source": [
        "baseModel = MobileNetV2(weights=\"imagenet\", include_top=False,\n",
        "\tinput_tensor=layer.Input(shape=(224, 224, 3)))\n",
        "\n",
        "headModel = baseModel.output\n",
        "headModel = layer.AveragePooling2D(pool_size=(7, 7))(headModel)\n",
        "headModel = layer.Flatten(name=\"flatten\")(headModel)\n",
        "headModel = layer.Dense(128, activation=\"relu\")(headModel)\n",
        "headModel = layer.Dropout(0.5)(headModel)\n",
        "headModel = layer.Dense(2, activation=\"softmax\")(headModel)\n",
        "\n",
        "model = Model(inputs=baseModel.input, outputs=headModel)\n",
        "\n",
        "for layer in baseModel.layers:\n",
        "\tlayer.trainable = False # freeze hidden model"
      ],
      "metadata": {
        "id": "7h2-cmXulfxY"
      },
      "execution_count": null,
      "outputs": []
    },
    {
      "cell_type": "markdown",
      "source": [
        "#Model training"
      ],
      "metadata": {
        "id": "0tvByAOEnJ5p"
      }
    },
    {
      "cell_type": "code",
      "source": [
        "opt = Adam(lr=initialLearningRate, decay=initialLearningRate / numberOfEpochs)\n",
        "model.compile(loss=\"binary_crossentropy\", optimizer=opt,\n",
        "\tmetrics=[\"accuracy\"])\n",
        "\n",
        "H = model.fit(\n",
        "\taug.flow(trainX, trainY, batch_size=batchSize),\n",
        "\tsteps_per_epoch=len(trainX) // batchSize,\n",
        "\tvalidation_data=(testX, testY),\n",
        "\tvalidation_steps=len(testX) // batchSize,\n",
        "\tepochs=numberOfEpochs)"
      ],
      "metadata": {
        "colab": {
          "base_uri": "https://localhost:8080/"
        },
        "id": "Q8wZowLK0jky",
        "outputId": "97880ed0-2204-49f4-8dc9-b9ac4b15c4b3"
      },
      "execution_count": null,
      "outputs": [
        {
          "output_type": "stream",
          "name": "stderr",
          "text": [
            "/usr/local/lib/python3.7/dist-packages/keras/optimizer_v2/adam.py:105: UserWarning: The `lr` argument is deprecated, use `learning_rate` instead.\n",
            "  super(Adam, self).__init__(name, **kwargs)\n"
          ]
        },
        {
          "output_type": "stream",
          "name": "stdout",
          "text": [
            "Epoch 1/20\n",
            "96/96 [==============================] - 150s 2s/step - loss: 0.3812 - accuracy: 0.8583 - val_loss: 0.1417 - val_accuracy: 0.9740\n",
            "Epoch 2/20\n",
            "46/96 [=============>................] - ETA: 1:02 - loss: 0.1571 - accuracy: 0.9584"
          ]
        }
      ]
    },
    {
      "cell_type": "markdown",
      "source": [
        "#Model testing"
      ],
      "metadata": {
        "id": "MIqMIMy3nRQg"
      }
    },
    {
      "cell_type": "code",
      "source": [
        "predIdxs = model.predict(testX, batch_size=batchSize)\n",
        "\n",
        "predIdxs = np.argmax(predIdxs, axis=1)\n",
        "\n",
        "print(classification_report(testY.argmax(axis=1), predIdxs,\n",
        "\ttarget_names=lb.classes_))"
      ],
      "metadata": {
        "id": "WvKr27SonPKY"
      },
      "execution_count": null,
      "outputs": []
    },
    {
      "cell_type": "markdown",
      "source": [
        "#Save model"
      ],
      "metadata": {
        "id": "zIAhCUhvmwkW"
      }
    },
    {
      "cell_type": "code",
      "source": [
        "model.save(\"mask_detector.model\", save_format=\"h5\")"
      ],
      "metadata": {
        "id": "XDJAVE_dmzNw"
      },
      "execution_count": null,
      "outputs": []
    },
    {
      "cell_type": "markdown",
      "source": [
        "#Plot reasults"
      ],
      "metadata": {
        "id": "UbDTanXxmmkA"
      }
    },
    {
      "cell_type": "code",
      "source": [
        "N = numberOfEpochs\n",
        "plt.figure()\n",
        "plt.plot(np.arange(0, N), H.history[\"loss\"], label=\"train_loss\")\n",
        "plt.plot(np.arange(0, N), H.history[\"val_loss\"], label=\"val_loss\")\n",
        "plt.plot(np.arange(0, N), H.history[\"accuracy\"], label=\"train_acc\")\n",
        "plt.plot(np.arange(0, N), H.history[\"val_accuracy\"], label=\"val_acc\")\n",
        "plt.title(\"Training Loss and Accuracy\")\n",
        "plt.xlabel(\"Epoch #\")\n",
        "plt.ylabel(\"Loss/Accuracy\")\n",
        "plt.legend(loc=\"lower left\")\n",
        "plt.show()\n",
        "plt.savefig(\"results.png\")"
      ],
      "metadata": {
        "id": "QZjaXDHFmoUz"
      },
      "execution_count": null,
      "outputs": []
    }
  ]
}