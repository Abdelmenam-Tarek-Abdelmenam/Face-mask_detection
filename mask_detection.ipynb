{
  "nbformat": 4,
  "nbformat_minor": 0,
  "metadata": {
    "colab": {
      "name": "mask_detection.ipynb",
      "provenance": [],
      "collapsed_sections": [],
      "mount_file_id": "1LLq-rNhEoM3uWPj-6k8uGBWVUyeTpNkr",
      "authorship_tag": "ABX9TyMDHhRLDucIESpCBtOgK/PS",
      "include_colab_link": true
    },
    "kernelspec": {
      "name": "python3",
      "display_name": "Python 3"
    },
    "language_info": {
      "name": "python"
    }
  },
  "cells": [
    {
      "cell_type": "markdown",
      "metadata": {
        "id": "view-in-github",
        "colab_type": "text"
      },
      "source": [
        "<a href=\"https://colab.research.google.com/github/Abdelmenam-Tarek-Abdelmenam/Face-mask_detection/blob/main/mask_detection.ipynb\" target=\"_parent\"><img src=\"https://colab.research.google.com/assets/colab-badge.svg\" alt=\"Open In Colab\"/></a>"
      ]
    },
    {
      "cell_type": "markdown",
      "source": [
        "#Import packeges"
      ],
      "metadata": {
        "id": "Y9W48U9BSUYC"
      }
    },
    {
      "cell_type": "code",
      "execution_count": 17,
      "metadata": {
        "id": "bYuOej5tz82a"
      },
      "outputs": [],
      "source": [
        "from tensorflow.keras.applications import MobileNetV2\n",
        "import  tensorflow.keras.layers as layer \n",
        "from tensorflow.keras.models import Model\n",
        "from tensorflow.keras.optimizers import Adam\n",
        "from tensorflow.keras.applications.mobilenet_v2 import preprocess_input\n",
        "import tensorflow.keras.preprocessing.image as imagePros\n",
        "from tensorflow.keras.utils import to_categorical\n",
        "\n",
        "from sklearn.preprocessing import LabelBinarizer\n",
        "from sklearn.metrics import classification_report\n",
        "from sklearn.model_selection import train_test_split\n",
        "\n",
        "import matplotlib.pyplot as plt\n",
        "import seaborn as sns\n",
        "import numpy as np\n",
        "import os\n",
        "%matplotlib inline  \n",
        "sns.set()"
      ]
    },
    {
      "cell_type": "markdown",
      "source": [
        "# Initial values"
      ],
      "metadata": {
        "id": "ecsMvHkfSdI6"
      }
    },
    {
      "cell_type": "code",
      "source": [
        "initialLearningRate = 1e-4\n",
        "numberOfEpochs = 20\n",
        "batchSize = 32\n",
        "\n",
        "dataDirectory = r\"drive/MyDrive/Colab Notebooks/dataset\"\n",
        "categories = [\"with_mask\", \"without_mask\"]\n",
        "\n",
        "# the list of data \n",
        "data = []\n",
        "labels = []"
      ],
      "metadata": {
        "id": "W4j3bRkRz_Ru"
      },
      "execution_count": 18,
      "outputs": []
    },
    {
      "cell_type": "markdown",
      "source": [
        "# Read images"
      ],
      "metadata": {
        "id": "rC1zPdKxhFaU"
      }
    },
    {
      "cell_type": "code",
      "source": [
        "for category in categories:\n",
        "    path = os.path.join(dataDirectory, category)\n",
        "    for img in os.listdir(path):\n",
        "    \timg_path = os.path.join(path, img)\n",
        "    \timage = imagePros.load_img(img_path, target_size=(224, 224))\n",
        "    \timage = imagePros.img_to_array(image)\n",
        "    \timage = preprocess_input(image)\n",
        "\n",
        "    \tdata.append(image)\n",
        "    \tlabels.append(category)\n",
        "     \n",
        "\n",
        "labelCount = {i:labels.count(i) for i in labels}\n",
        "print(\"number of images\", len(data))\n",
        "print(labelCount)"
      ],
      "metadata": {
        "colab": {
          "base_uri": "https://localhost:8080/"
        },
        "id": "d9maeSqn0Lzj",
        "outputId": "cabecb4b-6600-4b58-a512-4bc21a65d78f"
      },
      "execution_count": 19,
      "outputs": [
        {
          "output_type": "stream",
          "name": "stdout",
          "text": [
            "number of images 3842\n",
            "{'with_mask': 1924, 'without_mask': 1918}\n"
          ]
        }
      ]
    },
    {
      "cell_type": "markdown",
      "source": [
        "#  Encode the labels"
      ],
      "metadata": {
        "id": "WJTyEb0PiDUo"
      }
    },
    {
      "cell_type": "code",
      "source": [
        "lb = LabelBinarizer()\n",
        "labels = lb.fit_transform(labels)\n",
        "labels = to_categorical(labels) #vector to matrix 0-1"
      ],
      "metadata": {
        "id": "Twwx1zL20dne"
      },
      "execution_count": 20,
      "outputs": []
    },
    {
      "cell_type": "markdown",
      "source": [
        "#Split data"
      ],
      "metadata": {
        "id": "F3acNTm-iV0G"
      }
    },
    {
      "cell_type": "code",
      "source": [
        "data = np.array(data, dtype=\"float32\")\n",
        "labels = np.array(labels)\n",
        "\n",
        "(trainX, testX, trainY, testY) = train_test_split(data, labels,\n",
        "\ttest_size=0.20, stratify=labels, random_state=42)\n",
        "\n",
        "print(\"tarin data lenght\" , len(trainX))\n",
        "print(\"test data lenght\" , len(testX))"
      ],
      "metadata": {
        "colab": {
          "base_uri": "https://localhost:8080/"
        },
        "id": "Duw59CvqiZAG",
        "outputId": "98d8658b-2bc6-41ab-8386-03433e9abea6"
      },
      "execution_count": 21,
      "outputs": [
        {
          "output_type": "stream",
          "name": "stdout",
          "text": [
            "tarin data lenght 3073\n",
            "test data lenght 769\n"
          ]
        }
      ]
    },
    {
      "cell_type": "markdown",
      "source": [
        "#Data augmentation"
      ],
      "metadata": {
        "id": "yOFjP-TJlH_1"
      }
    },
    {
      "cell_type": "code",
      "source": [
        "aug = imagePros.ImageDataGenerator(\n",
        "\trotation_range=20,\n",
        "\tzoom_range=0.15,\n",
        "\twidth_shift_range=0.2,\n",
        "\theight_shift_range=0.2,\n",
        "\tshear_range=0.15,\n",
        "\thorizontal_flip=True,\n",
        "\tfill_mode=\"nearest\")"
      ],
      "metadata": {
        "id": "hlv2UEaLlRw2"
      },
      "execution_count": 22,
      "outputs": []
    },
    {
      "cell_type": "markdown",
      "source": [
        "#Prepare model"
      ],
      "metadata": {
        "id": "VrDVFvgulmjF"
      }
    },
    {
      "cell_type": "code",
      "source": [
        "baseModel = MobileNetV2(weights=\"imagenet\", include_top=False,\n",
        "\tinput_tensor=layer.Input(shape=(224, 224, 3)))\n",
        "\n",
        "headModel = baseModel.output\n",
        "headModel = layer.AveragePooling2D(pool_size=(7, 7))(headModel)\n",
        "headModel = layer.Flatten(name=\"flatten\")(headModel)\n",
        "headModel = layer.Dense(128, activation=\"relu\")(headModel)\n",
        "headModel = layer.Dropout(0.5)(headModel)\n",
        "headModel = layer.Dense(2, activation=\"softmax\")(headModel)\n",
        "\n",
        "model = Model(inputs=baseModel.input, outputs=headModel)\n",
        "\n",
        "for layer in baseModel.layers:\n",
        "\tlayer.trainable = False # freeze hidden model"
      ],
      "metadata": {
        "id": "7h2-cmXulfxY"
      },
      "execution_count": null,
      "outputs": []
    },
    {
      "cell_type": "markdown",
      "source": [
        "#Model training"
      ],
      "metadata": {
        "id": "0tvByAOEnJ5p"
      }
    },
    {
      "cell_type": "code",
      "source": [
        "opt = Adam(lr=initialLearningRate, decay=initialLearningRate / numberOfEpochs)\n",
        "model.compile(loss=\"binary_crossentropy\", optimizer=opt,\n",
        "\tmetrics=[\"accuracy\"])\n",
        "\n",
        "H = model.fit(\n",
        "\taug.flow(trainX, trainY, batch_size=batchSize),\n",
        "\tsteps_per_epoch=len(trainX) // batchSize,\n",
        "\tvalidation_data=(testX, testY),\n",
        "\tvalidation_steps=len(testX) // batchSize,\n",
        "\tepochs=numberOfEpochs)"
      ],
      "metadata": {
        "colab": {
          "base_uri": "https://localhost:8080/"
        },
        "id": "Q8wZowLK0jky",
        "outputId": "6325ed0b-b664-4e77-a9ae-194bfe190719"
      },
      "execution_count": 27,
      "outputs": [
        {
          "output_type": "stream",
          "name": "stdout",
          "text": [
            "Epoch 1/20\n",
            "96/96 [==============================] - 151s 2s/step - loss: 0.0971 - accuracy: 0.9744 - val_loss: 0.0631 - val_accuracy: 0.9805\n",
            "Epoch 2/20\n",
            "96/96 [==============================] - 142s 1s/step - loss: 0.0698 - accuracy: 0.9819 - val_loss: 0.0521 - val_accuracy: 0.9818\n",
            "Epoch 3/20\n",
            "96/96 [==============================] - 151s 2s/step - loss: 0.0558 - accuracy: 0.9849 - val_loss: 0.0461 - val_accuracy: 0.9857\n",
            "Epoch 4/20\n",
            "96/96 [==============================] - 143s 1s/step - loss: 0.0481 - accuracy: 0.9872 - val_loss: 0.0420 - val_accuracy: 0.9870\n",
            "Epoch 5/20\n",
            "96/96 [==============================] - 142s 1s/step - loss: 0.0450 - accuracy: 0.9885 - val_loss: 0.0435 - val_accuracy: 0.9805\n",
            "Epoch 6/20\n",
            "96/96 [==============================] - 143s 1s/step - loss: 0.0438 - accuracy: 0.9882 - val_loss: 0.0471 - val_accuracy: 0.9766\n",
            "Epoch 7/20\n",
            "96/96 [==============================] - 144s 1s/step - loss: 0.0350 - accuracy: 0.9882 - val_loss: 0.0370 - val_accuracy: 0.9857\n",
            "Epoch 8/20\n",
            "96/96 [==============================] - 145s 2s/step - loss: 0.0339 - accuracy: 0.9921 - val_loss: 0.0378 - val_accuracy: 0.9870\n",
            "Epoch 9/20\n",
            "96/96 [==============================] - 144s 1s/step - loss: 0.0361 - accuracy: 0.9898 - val_loss: 0.0358 - val_accuracy: 0.9857\n",
            "Epoch 10/20\n",
            "96/96 [==============================] - 143s 1s/step - loss: 0.0332 - accuracy: 0.9908 - val_loss: 0.0331 - val_accuracy: 0.9896\n",
            "Epoch 11/20\n",
            "96/96 [==============================] - 145s 2s/step - loss: 0.0321 - accuracy: 0.9905 - val_loss: 0.0374 - val_accuracy: 0.9857\n",
            "Epoch 12/20\n",
            "96/96 [==============================] - 152s 2s/step - loss: 0.0304 - accuracy: 0.9915 - val_loss: 0.0348 - val_accuracy: 0.9883\n",
            "Epoch 13/20\n",
            "96/96 [==============================] - 149s 2s/step - loss: 0.0237 - accuracy: 0.9944 - val_loss: 0.0340 - val_accuracy: 0.9857\n",
            "Epoch 14/20\n",
            "96/96 [==============================] - 146s 2s/step - loss: 0.0239 - accuracy: 0.9918 - val_loss: 0.0309 - val_accuracy: 0.9870\n",
            "Epoch 15/20\n",
            "96/96 [==============================] - 143s 1s/step - loss: 0.0228 - accuracy: 0.9928 - val_loss: 0.0311 - val_accuracy: 0.9883\n",
            "Epoch 16/20\n",
            "96/96 [==============================] - 143s 1s/step - loss: 0.0289 - accuracy: 0.9915 - val_loss: 0.0290 - val_accuracy: 0.9883\n",
            "Epoch 17/20\n",
            "96/96 [==============================] - 143s 1s/step - loss: 0.0195 - accuracy: 0.9947 - val_loss: 0.0317 - val_accuracy: 0.9896\n",
            "Epoch 18/20\n",
            "96/96 [==============================] - 142s 1s/step - loss: 0.0193 - accuracy: 0.9928 - val_loss: 0.0272 - val_accuracy: 0.9883\n",
            "Epoch 19/20\n",
            "96/96 [==============================] - 142s 1s/step - loss: 0.0200 - accuracy: 0.9938 - val_loss: 0.0266 - val_accuracy: 0.9883\n",
            "Epoch 20/20\n",
            "96/96 [==============================] - 144s 2s/step - loss: 0.0168 - accuracy: 0.9941 - val_loss: 0.0255 - val_accuracy: 0.9896\n"
          ]
        }
      ]
    },
    {
      "cell_type": "markdown",
      "source": [
        "#Model testing"
      ],
      "metadata": {
        "id": "MIqMIMy3nRQg"
      }
    },
    {
      "cell_type": "code",
      "source": [
        "predIdxs = model.predict(testX, batch_size=batchSize)\n",
        "\n",
        "predIdxs = np.argmax(predIdxs, axis=1)\n",
        "\n",
        "print(classification_report(testY.argmax(axis=1), predIdxs,\n",
        "\ttarget_names=lb.classes_))"
      ],
      "metadata": {
        "colab": {
          "base_uri": "https://localhost:8080/"
        },
        "id": "WvKr27SonPKY",
        "outputId": "094deb94-574a-445f-c36c-31e8670e7964"
      },
      "execution_count": 28,
      "outputs": [
        {
          "output_type": "stream",
          "name": "stdout",
          "text": [
            "              precision    recall  f1-score   support\n",
            "\n",
            "   with_mask       0.99      0.99      0.99       385\n",
            "without_mask       0.99      0.99      0.99       384\n",
            "\n",
            "    accuracy                           0.99       769\n",
            "   macro avg       0.99      0.99      0.99       769\n",
            "weighted avg       0.99      0.99      0.99       769\n",
            "\n"
          ]
        }
      ]
    },
    {
      "cell_type": "markdown",
      "source": [
        "#Save model"
      ],
      "metadata": {
        "id": "zIAhCUhvmwkW"
      }
    },
    {
      "cell_type": "code",
      "source": [
        "model.save(\"mask_detector.model\", save_format=\"h5\")"
      ],
      "metadata": {
        "id": "XDJAVE_dmzNw"
      },
      "execution_count": 29,
      "outputs": []
    },
    {
      "cell_type": "markdown",
      "source": [
        "#Plot reasults"
      ],
      "metadata": {
        "id": "UbDTanXxmmkA"
      }
    },
    {
      "cell_type": "code",
      "source": [
        "N = numberOfEpochs\n",
        "plt.figure()\n",
        "plt.plot(np.arange(0, N), H.history[\"loss\"], label=\"train_loss\")\n",
        "plt.plot(np.arange(0, N), H.history[\"val_loss\"], label=\"val_loss\")\n",
        "plt.plot(np.arange(0, N), H.history[\"accuracy\"], label=\"train_acc\")\n",
        "plt.plot(np.arange(0, N), H.history[\"val_accuracy\"], label=\"val_acc\")\n",
        "plt.title(\"Training Loss and Accuracy\")\n",
        "plt.xlabel(\"Epoch #\")\n",
        "plt.ylabel(\"Loss/Accuracy\")\n",
        "plt.legend(loc=\"lower left\")\n",
        "plt.show()\n",
        "plt.savefig(\"results.png\")"
      ],
      "metadata": {
        "colab": {
          "base_uri": "https://localhost:8080/",
          "height": 318
        },
        "id": "QZjaXDHFmoUz",
        "outputId": "1d7d3a61-34ca-437e-e2d5-db829ac35aa2"
      },
      "execution_count": 30,
      "outputs": [
        {
          "output_type": "display_data",
          "data": {
            "text/plain": [
              "<Figure size 432x288 with 1 Axes>"
            ],
            "image/png": "[encoded data removed]"
          },
          "metadata": {}
        },
        {
          "output_type": "display_data",
          "data": {
            "text/plain": [
              "<Figure size 432x288 with 0 Axes>"
            ]
          },
          "metadata": {}
        }
      ]
    }
  ]
}